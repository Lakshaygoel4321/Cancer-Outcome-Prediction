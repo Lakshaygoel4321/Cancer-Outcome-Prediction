{
 "cells": [
  {
   "cell_type": "code",
   "execution_count": 1,
   "id": "42ef95dd",
   "metadata": {},
   "outputs": [],
   "source": [
    "import pandas as pd\n",
    "import numpy as np"
   ]
  },
  {
   "cell_type": "code",
   "execution_count": 5,
   "id": "38c8ec9e",
   "metadata": {},
   "outputs": [],
   "source": [
    "df = pd.read_csv(r\"C:\\Users\\iamda\\OneDrive\\Desktop\\Private-MLOPS\\MLOPS-Project\\notebook\\cancer_dataset.csv\")"
   ]
  },
  {
   "cell_type": "code",
   "execution_count": 6,
   "metadata": {},
   "outputs": [
    {
     "data": {
      "text/html": [
       "<div>\n",
       "<style scoped>\n",
       "    .dataframe tbody tr th:only-of-type {\n",
       "        vertical-align: middle;\n",
       "    }\n",
       "\n",
       "    .dataframe tbody tr th {\n",
       "        vertical-align: top;\n",
       "    }\n",
       "\n",
       "    .dataframe thead th {\n",
       "        text-align: right;\n",
       "    }\n",
       "</style>\n",
       "<table border=\"1\" class=\"dataframe\">\n",
       "  <thead>\n",
       "    <tr style=\"text-align: right;\">\n",
       "      <th></th>\n",
       "      <th>Patient_ID</th>\n",
       "      <th>Age</th>\n",
       "      <th>Gender</th>\n",
       "      <th>Nationality</th>\n",
       "      <th>Emirate</th>\n",
       "      <th>Diagnosis_Date</th>\n",
       "      <th>Cancer_Type</th>\n",
       "      <th>Cancer_Stage</th>\n",
       "      <th>Treatment_Type</th>\n",
       "      <th>Treatment_Start_Date</th>\n",
       "      <th>Hospital</th>\n",
       "      <th>Primary_Physician</th>\n",
       "      <th>Outcome</th>\n",
       "      <th>Death_Date</th>\n",
       "      <th>Cause_of_Death</th>\n",
       "      <th>Smoking_Status</th>\n",
       "      <th>Comorbidities</th>\n",
       "      <th>Ethnicity</th>\n",
       "      <th>Weight</th>\n",
       "      <th>Height</th>\n",
       "    </tr>\n",
       "  </thead>\n",
       "  <tbody>\n",
       "    <tr>\n",
       "      <th>0</th>\n",
       "      <td>PAT000001</td>\n",
       "      <td>69</td>\n",
       "      <td>Female</td>\n",
       "      <td>Emirati</td>\n",
       "      <td>Umm Al Quwain</td>\n",
       "      <td>2020-11-30</td>\n",
       "      <td>Liver</td>\n",
       "      <td>II</td>\n",
       "      <td>Radiation</td>\n",
       "      <td>2020-12-04</td>\n",
       "      <td>Sheikh Khalifa Hospital</td>\n",
       "      <td>Dr. VO41</td>\n",
       "      <td>Recovered</td>\n",
       "      <td>NaN</td>\n",
       "      <td>NaN</td>\n",
       "      <td>Non-Smoker</td>\n",
       "      <td>NaN</td>\n",
       "      <td>European</td>\n",
       "      <td>61</td>\n",
       "      <td>157</td>\n",
       "    </tr>\n",
       "    <tr>\n",
       "      <th>1</th>\n",
       "      <td>PAT000002</td>\n",
       "      <td>32</td>\n",
       "      <td>Male</td>\n",
       "      <td>Emirati</td>\n",
       "      <td>Umm Al Quwain</td>\n",
       "      <td>2015-10-10</td>\n",
       "      <td>Leukemia</td>\n",
       "      <td>III</td>\n",
       "      <td>Surgery</td>\n",
       "      <td>2015-11-05</td>\n",
       "      <td>Dubai Hospital</td>\n",
       "      <td>Dr. SM31</td>\n",
       "      <td>Recovered</td>\n",
       "      <td>NaN</td>\n",
       "      <td>NaN</td>\n",
       "      <td>Smoker</td>\n",
       "      <td>NaN</td>\n",
       "      <td>South Asian</td>\n",
       "      <td>80</td>\n",
       "      <td>175</td>\n",
       "    </tr>\n",
       "    <tr>\n",
       "      <th>2</th>\n",
       "      <td>PAT000003</td>\n",
       "      <td>89</td>\n",
       "      <td>Male</td>\n",
       "      <td>Emirati</td>\n",
       "      <td>Abu Dhabi</td>\n",
       "      <td>2018-02-13</td>\n",
       "      <td>Liver</td>\n",
       "      <td>III</td>\n",
       "      <td>Radiation</td>\n",
       "      <td>2018-08-03</td>\n",
       "      <td>Zayed Military Hospital</td>\n",
       "      <td>Dr. BC7</td>\n",
       "      <td>Under Treatment</td>\n",
       "      <td>NaN</td>\n",
       "      <td>NaN</td>\n",
       "      <td>Non-Smoker</td>\n",
       "      <td>NaN</td>\n",
       "      <td>South Asian</td>\n",
       "      <td>50</td>\n",
       "      <td>175</td>\n",
       "    </tr>\n",
       "    <tr>\n",
       "      <th>3</th>\n",
       "      <td>PAT000004</td>\n",
       "      <td>78</td>\n",
       "      <td>Female</td>\n",
       "      <td>Emirati</td>\n",
       "      <td>Abu Dhabi</td>\n",
       "      <td>2022-02-04</td>\n",
       "      <td>Lung</td>\n",
       "      <td>III</td>\n",
       "      <td>Radiation</td>\n",
       "      <td>2022-03-13</td>\n",
       "      <td>Cleveland Clinic Abu Dhabi</td>\n",
       "      <td>Dr. TC14</td>\n",
       "      <td>Recovered</td>\n",
       "      <td>NaN</td>\n",
       "      <td>NaN</td>\n",
       "      <td>Former Smoker</td>\n",
       "      <td>NaN</td>\n",
       "      <td>African</td>\n",
       "      <td>44</td>\n",
       "      <td>155</td>\n",
       "    </tr>\n",
       "    <tr>\n",
       "      <th>4</th>\n",
       "      <td>PAT000005</td>\n",
       "      <td>38</td>\n",
       "      <td>Female</td>\n",
       "      <td>Emirati</td>\n",
       "      <td>Fujairah</td>\n",
       "      <td>2019-12-03</td>\n",
       "      <td>Pancreatic</td>\n",
       "      <td>II</td>\n",
       "      <td>Chemotherapy</td>\n",
       "      <td>2020-02-29</td>\n",
       "      <td>Sheikh Khalifa Hospital</td>\n",
       "      <td>Dr. YS37</td>\n",
       "      <td>Recovered</td>\n",
       "      <td>NaN</td>\n",
       "      <td>NaN</td>\n",
       "      <td>Former Smoker</td>\n",
       "      <td>NaN</td>\n",
       "      <td>East Asian</td>\n",
       "      <td>101</td>\n",
       "      <td>160</td>\n",
       "    </tr>\n",
       "  </tbody>\n",
       "</table>\n",
       "</div>"
      ],
      "text/plain": [
       "  Patient_ID  Age  Gender Nationality        Emirate Diagnosis_Date  \\\n",
       "0  PAT000001   69  Female     Emirati  Umm Al Quwain     2020-11-30   \n",
       "1  PAT000002   32    Male     Emirati  Umm Al Quwain     2015-10-10   \n",
       "2  PAT000003   89    Male     Emirati      Abu Dhabi     2018-02-13   \n",
       "3  PAT000004   78  Female     Emirati      Abu Dhabi     2022-02-04   \n",
       "4  PAT000005   38  Female     Emirati       Fujairah     2019-12-03   \n",
       "\n",
       "  Cancer_Type Cancer_Stage Treatment_Type Treatment_Start_Date  \\\n",
       "0       Liver           II      Radiation           2020-12-04   \n",
       "1    Leukemia          III        Surgery           2015-11-05   \n",
       "2       Liver          III      Radiation           2018-08-03   \n",
       "3        Lung          III      Radiation           2022-03-13   \n",
       "4  Pancreatic           II   Chemotherapy           2020-02-29   \n",
       "\n",
       "                     Hospital Primary_Physician          Outcome Death_Date  \\\n",
       "0     Sheikh Khalifa Hospital          Dr. VO41        Recovered        NaN   \n",
       "1              Dubai Hospital          Dr. SM31        Recovered        NaN   \n",
       "2     Zayed Military Hospital           Dr. BC7  Under Treatment        NaN   \n",
       "3  Cleveland Clinic Abu Dhabi          Dr. TC14        Recovered        NaN   \n",
       "4     Sheikh Khalifa Hospital          Dr. YS37        Recovered        NaN   \n",
       "\n",
       "  Cause_of_Death Smoking_Status Comorbidities    Ethnicity  Weight  Height  \n",
       "0            NaN     Non-Smoker           NaN     European      61     157  \n",
       "1            NaN         Smoker           NaN  South Asian      80     175  \n",
       "2            NaN     Non-Smoker           NaN  South Asian      50     175  \n",
       "3            NaN  Former Smoker           NaN      African      44     155  \n",
       "4            NaN  Former Smoker           NaN   East Asian     101     160  "
      ]
     },
     "execution_count": 6,
     "metadata": {},
     "output_type": "execute_result"
    }
   ],
   "source": [
    "df.head()"
   ]
  },
  {
   "cell_type": "code",
   "execution_count": 7,
   "id": "105af94f",
   "metadata": {},
   "outputs": [
    {
     "data": {
      "text/plain": [
       "Patient_ID                 0\n",
       "Age                        0\n",
       "Gender                     0\n",
       "Nationality                0\n",
       "Emirate                    0\n",
       "Diagnosis_Date             0\n",
       "Cancer_Type                0\n",
       "Cancer_Stage               0\n",
       "Treatment_Type             0\n",
       "Treatment_Start_Date       0\n",
       "Hospital                   0\n",
       "Primary_Physician          0\n",
       "Outcome                    0\n",
       "Death_Date              9008\n",
       "Cause_of_Death          9008\n",
       "Smoking_Status             0\n",
       "Comorbidities           4047\n",
       "Ethnicity                  0\n",
       "Weight                     0\n",
       "Height                     0\n",
       "dtype: int64"
      ]
     },
     "execution_count": 7,
     "metadata": {},
     "output_type": "execute_result"
    }
   ],
   "source": [
    "\n",
    "df.isnull().sum()"
   ]
  },
  {
   "cell_type": "code",
   "execution_count": 8,
   "id": "8a943eef",
   "metadata": {},
   "outputs": [
    {
     "data": {
      "text/plain": [
       "(10000, 20)"
      ]
     },
     "execution_count": 8,
     "metadata": {},
     "output_type": "execute_result"
    }
   ],
   "source": [
    "df.shape"
   ]
  },
  {
   "cell_type": "code",
   "execution_count": 9,
   "id": "d5ea2ac4",
   "metadata": {},
   "outputs": [
    {
     "name": "stdout",
     "output_type": "stream",
     "text": [
      "<class 'pandas.core.frame.DataFrame'>\n",
      "RangeIndex: 10000 entries, 0 to 9999\n",
      "Data columns (total 20 columns):\n",
      " #   Column                Non-Null Count  Dtype \n",
      "---  ------                --------------  ----- \n",
      " 0   Patient_ID            10000 non-null  object\n",
      " 1   Age                   10000 non-null  int64 \n",
      " 2   Gender                10000 non-null  object\n",
      " 3   Nationality           10000 non-null  object\n",
      " 4   Emirate               10000 non-null  object\n",
      " 5   Diagnosis_Date        10000 non-null  object\n",
      " 6   Cancer_Type           10000 non-null  object\n",
      " 7   Cancer_Stage          10000 non-null  object\n",
      " 8   Treatment_Type        10000 non-null  object\n",
      " 9   Treatment_Start_Date  10000 non-null  object\n",
      " 10  Hospital              10000 non-null  object\n",
      " 11  Primary_Physician     10000 non-null  object\n",
      " 12  Outcome               10000 non-null  object\n",
      " 13  Death_Date            992 non-null    object\n",
      " 14  Cause_of_Death        992 non-null    object\n",
      " 15  Smoking_Status        10000 non-null  object\n",
      " 16  Comorbidities         5953 non-null   object\n",
      " 17  Ethnicity             10000 non-null  object\n",
      " 18  Weight                10000 non-null  int64 \n",
      " 19  Height                10000 non-null  int64 \n",
      "dtypes: int64(3), object(17)\n",
      "memory usage: 1.5+ MB\n"
     ]
    }
   ],
   "source": [
    "df.info()"
   ]
  },
  {
   "cell_type": "code",
   "execution_count": 10,
   "id": "a2612f92",
   "metadata": {},
   "outputs": [
    {
     "data": {
      "text/html": [
       "<div>\n",
       "<style scoped>\n",
       "    .dataframe tbody tr th:only-of-type {\n",
       "        vertical-align: middle;\n",
       "    }\n",
       "\n",
       "    .dataframe tbody tr th {\n",
       "        vertical-align: top;\n",
       "    }\n",
       "\n",
       "    .dataframe thead th {\n",
       "        text-align: right;\n",
       "    }\n",
       "</style>\n",
       "<table border=\"1\" class=\"dataframe\">\n",
       "  <thead>\n",
       "    <tr style=\"text-align: right;\">\n",
       "      <th></th>\n",
       "      <th>Patient_ID</th>\n",
       "      <th>Age</th>\n",
       "      <th>Gender</th>\n",
       "      <th>Nationality</th>\n",
       "      <th>Emirate</th>\n",
       "      <th>Diagnosis_Date</th>\n",
       "      <th>Cancer_Type</th>\n",
       "      <th>Cancer_Stage</th>\n",
       "      <th>Treatment_Type</th>\n",
       "      <th>Treatment_Start_Date</th>\n",
       "      <th>Hospital</th>\n",
       "      <th>Primary_Physician</th>\n",
       "      <th>Outcome</th>\n",
       "      <th>Death_Date</th>\n",
       "      <th>Cause_of_Death</th>\n",
       "      <th>Smoking_Status</th>\n",
       "      <th>Comorbidities</th>\n",
       "      <th>Ethnicity</th>\n",
       "      <th>Weight</th>\n",
       "      <th>Height</th>\n",
       "    </tr>\n",
       "  </thead>\n",
       "  <tbody>\n",
       "    <tr>\n",
       "      <th>0</th>\n",
       "      <td>PAT000001</td>\n",
       "      <td>69</td>\n",
       "      <td>Female</td>\n",
       "      <td>Emirati</td>\n",
       "      <td>Umm Al Quwain</td>\n",
       "      <td>2020-11-30</td>\n",
       "      <td>Liver</td>\n",
       "      <td>II</td>\n",
       "      <td>Radiation</td>\n",
       "      <td>2020-12-04</td>\n",
       "      <td>Sheikh Khalifa Hospital</td>\n",
       "      <td>Dr. VO41</td>\n",
       "      <td>Recovered</td>\n",
       "      <td>NaN</td>\n",
       "      <td>NaN</td>\n",
       "      <td>Non-Smoker</td>\n",
       "      <td>NaN</td>\n",
       "      <td>European</td>\n",
       "      <td>61</td>\n",
       "      <td>157</td>\n",
       "    </tr>\n",
       "    <tr>\n",
       "      <th>1</th>\n",
       "      <td>PAT000002</td>\n",
       "      <td>32</td>\n",
       "      <td>Male</td>\n",
       "      <td>Emirati</td>\n",
       "      <td>Umm Al Quwain</td>\n",
       "      <td>2015-10-10</td>\n",
       "      <td>Leukemia</td>\n",
       "      <td>III</td>\n",
       "      <td>Surgery</td>\n",
       "      <td>2015-11-05</td>\n",
       "      <td>Dubai Hospital</td>\n",
       "      <td>Dr. SM31</td>\n",
       "      <td>Recovered</td>\n",
       "      <td>NaN</td>\n",
       "      <td>NaN</td>\n",
       "      <td>Smoker</td>\n",
       "      <td>NaN</td>\n",
       "      <td>South Asian</td>\n",
       "      <td>80</td>\n",
       "      <td>175</td>\n",
       "    </tr>\n",
       "  </tbody>\n",
       "</table>\n",
       "</div>"
      ],
      "text/plain": [
       "  Patient_ID  Age  Gender Nationality        Emirate Diagnosis_Date  \\\n",
       "0  PAT000001   69  Female     Emirati  Umm Al Quwain     2020-11-30   \n",
       "1  PAT000002   32    Male     Emirati  Umm Al Quwain     2015-10-10   \n",
       "\n",
       "  Cancer_Type Cancer_Stage Treatment_Type Treatment_Start_Date  \\\n",
       "0       Liver           II      Radiation           2020-12-04   \n",
       "1    Leukemia          III        Surgery           2015-11-05   \n",
       "\n",
       "                  Hospital Primary_Physician    Outcome Death_Date  \\\n",
       "0  Sheikh Khalifa Hospital          Dr. VO41  Recovered        NaN   \n",
       "1           Dubai Hospital          Dr. SM31  Recovered        NaN   \n",
       "\n",
       "  Cause_of_Death Smoking_Status Comorbidities    Ethnicity  Weight  Height  \n",
       "0            NaN     Non-Smoker           NaN     European      61     157  \n",
       "1            NaN         Smoker           NaN  South Asian      80     175  "
      ]
     },
     "execution_count": 10,
     "metadata": {},
     "output_type": "execute_result"
    }
   ],
   "source": [
    "\n",
    "df.head(2)"
   ]
  },
  {
   "cell_type": "code",
   "execution_count": 13,
   "id": "1ba86697",
   "metadata": {},
   "outputs": [],
   "source": [
    "df2 = df[['Age','Gender','Nationality','Emirate','Cancer_Type','Cancer_Stage','Treatment_Type','Hospital','Primary_Physician','Outcome','Smoking_Status','Ethnicity','Weight','Height']]"
   ]
  },
  {
   "cell_type": "code",
   "execution_count": null,
   "id": "c4fa0b6c",
   "metadata": {},
   "outputs": [
    {
     "data": {
      "text/html": [
       "<div>\n",
       "<style scoped>\n",
       "    .dataframe tbody tr th:only-of-type {\n",
       "        vertical-align: middle;\n",
       "    }\n",
       "\n",
       "    .dataframe tbody tr th {\n",
       "        vertical-align: top;\n",
       "    }\n",
       "\n",
       "    .dataframe thead th {\n",
       "        text-align: right;\n",
       "    }\n",
       "</style>\n",
       "<table border=\"1\" class=\"dataframe\">\n",
       "  <thead>\n",
       "    <tr style=\"text-align: right;\">\n",
       "      <th></th>\n",
       "      <th>Age</th>\n",
       "      <th>Gender</th>\n",
       "      <th>Nationality</th>\n",
       "      <th>Emirate</th>\n",
       "      <th>Cancer_Type</th>\n",
       "      <th>Cancer_Stage</th>\n",
       "      <th>Treatment_Type</th>\n",
       "      <th>Hospital</th>\n",
       "      <th>Primary_Physician</th>\n",
       "      <th>Outcome</th>\n",
       "      <th>Smoking_Status</th>\n",
       "      <th>Ethnicity</th>\n",
       "      <th>Weight</th>\n",
       "      <th>Height</th>\n",
       "    </tr>\n",
       "  </thead>\n",
       "  <tbody>\n",
       "    <tr>\n",
       "      <th>0</th>\n",
       "      <td>69</td>\n",
       "      <td>Female</td>\n",
       "      <td>Emirati</td>\n",
       "      <td>Umm Al Quwain</td>\n",
       "      <td>Liver</td>\n",
       "      <td>II</td>\n",
       "      <td>Radiation</td>\n",
       "      <td>Sheikh Khalifa Hospital</td>\n",
       "      <td>Dr. VO41</td>\n",
       "      <td>Recovered</td>\n",
       "      <td>Non-Smoker</td>\n",
       "      <td>European</td>\n",
       "      <td>61</td>\n",
       "      <td>157</td>\n",
       "    </tr>\n",
       "    <tr>\n",
       "      <th>1</th>\n",
       "      <td>32</td>\n",
       "      <td>Male</td>\n",
       "      <td>Emirati</td>\n",
       "      <td>Umm Al Quwain</td>\n",
       "      <td>Leukemia</td>\n",
       "      <td>III</td>\n",
       "      <td>Surgery</td>\n",
       "      <td>Dubai Hospital</td>\n",
       "      <td>Dr. SM31</td>\n",
       "      <td>Recovered</td>\n",
       "      <td>Smoker</td>\n",
       "      <td>South Asian</td>\n",
       "      <td>80</td>\n",
       "      <td>175</td>\n",
       "    </tr>\n",
       "  </tbody>\n",
       "</table>\n",
       "</div>"
      ],
      "text/plain": [
       "   Age  Gender Nationality        Emirate Cancer_Type Cancer_Stage  \\\n",
       "0   69  Female     Emirati  Umm Al Quwain       Liver           II   \n",
       "1   32    Male     Emirati  Umm Al Quwain    Leukemia          III   \n",
       "\n",
       "  Treatment_Type                 Hospital Primary_Physician    Outcome  \\\n",
       "0      Radiation  Sheikh Khalifa Hospital          Dr. VO41  Recovered   \n",
       "1        Surgery           Dubai Hospital          Dr. SM31  Recovered   \n",
       "\n",
       "  Smoking_Status    Ethnicity  Weight  Height  \n",
       "0     Non-Smoker     European      61     157  \n",
       "1         Smoker  South Asian      80     175  "
      ]
     },
     "execution_count": 14,
     "metadata": {},
     "output_type": "execute_result"
    }
   ],
   "source": [
    "\n",
    "df2.head(2)"
   ]
  },
  {
   "cell_type": "code",
   "execution_count": 15,
   "id": "0dda918d",
   "metadata": {},
   "outputs": [
    {
     "data": {
      "text/plain": [
       "array([69, 32, 89, 78, 38, 41, 20, 39, 70, 19, 47, 55, 81, 77, 50, 75, 66,\n",
       "       76, 59, 79, 64, 68, 72, 24, 56, 35, 21, 31, 26, 88, 61, 25, 52, 53,\n",
       "       67, 23, 71, 80, 51, 65, 57, 43, 58, 46, 62, 82, 18, 28, 22, 45, 29,\n",
       "       40, 54, 44, 60, 30, 49, 83, 74, 87, 73, 36, 85, 34, 86, 33, 37, 84,\n",
       "       48, 42, 63, 27])"
      ]
     },
     "execution_count": 15,
     "metadata": {},
     "output_type": "execute_result"
    }
   ],
   "source": [
    "\n",
    "df2['Age'].unique()"
   ]
  },
  {
   "cell_type": "code",
   "execution_count": 16,
   "id": "e7db2b73",
   "metadata": {},
   "outputs": [
    {
     "data": {
      "text/plain": [
       "Age\n",
       "34    175\n",
       "43    163\n",
       "36    159\n",
       "71    159\n",
       "38    157\n",
       "     ... \n",
       "31    122\n",
       "67    120\n",
       "24    117\n",
       "51    116\n",
       "22    113\n",
       "Name: count, Length: 72, dtype: int64"
      ]
     },
     "execution_count": 16,
     "metadata": {},
     "output_type": "execute_result"
    }
   ],
   "source": [
    "df2['Age'].value_counts()"
   ]
  },
  {
   "cell_type": "code",
   "execution_count": null,
   "id": "506cfb96",
   "metadata": {},
   "outputs": [
    {
     "data": {
      "text/plain": [
       "array(['Emirati', 'Expatriate'], dtype=object)"
      ]
     },
     "execution_count": 17,
     "metadata": {},
     "output_type": "execute_result"
    }
   ],
   "source": [
    "df2['Nationality'].unique()"
   ]
  },
  {
   "cell_type": "code",
   "execution_count": 18,
   "id": "319b279f",
   "metadata": {},
   "outputs": [
    {
     "data": {
      "text/plain": [
       "Nationality\n",
       "Emirati       5920\n",
       "Expatriate    4080\n",
       "Name: count, dtype: int64"
      ]
     },
     "execution_count": 18,
     "metadata": {},
     "output_type": "execute_result"
    }
   ],
   "source": [
    "df2['Nationality'].value_counts()"
   ]
  },
  {
   "cell_type": "code",
   "execution_count": 20,
   "id": "db87e23c",
   "metadata": {},
   "outputs": [
    {
     "data": {
      "text/plain": [
       "array(['Umm Al Quwain', 'Abu Dhabi', 'Fujairah', 'Ras Al Khaimah',\n",
       "       'Sharjah', 'Dubai', 'Ajman'], dtype=object)"
      ]
     },
     "execution_count": 20,
     "metadata": {},
     "output_type": "execute_result"
    }
   ],
   "source": [
    "\n",
    "df2['Emirate'].unique()"
   ]
  },
  {
   "cell_type": "code",
   "execution_count": 21,
   "id": "c68228a7",
   "metadata": {},
   "outputs": [
    {
     "data": {
      "text/plain": [
       "Emirate\n",
       "Ajman             1497\n",
       "Fujairah          1471\n",
       "Abu Dhabi         1471\n",
       "Umm Al Quwain     1432\n",
       "Dubai             1407\n",
       "Sharjah           1382\n",
       "Ras Al Khaimah    1340\n",
       "Name: count, dtype: int64"
      ]
     },
     "execution_count": 21,
     "metadata": {},
     "output_type": "execute_result"
    }
   ],
   "source": [
    "df2['Emirate'].value_counts()"
   ]
  },
  {
   "cell_type": "code",
   "execution_count": 22,
   "id": "dbc3937c",
   "metadata": {},
   "outputs": [
    {
     "data": {
      "text/plain": [
       "array(['Liver', 'Leukemia', 'Lung', 'Pancreatic', 'Breast', 'Ovarian',\n",
       "       'Prostate', 'Colorectal'], dtype=object)"
      ]
     },
     "execution_count": 22,
     "metadata": {},
     "output_type": "execute_result"
    }
   ],
   "source": [
    "\n",
    "df2['Cancer_Type'].unique()"
   ]
  },
  {
   "cell_type": "code",
   "execution_count": 23,
   "id": "36ea81f2",
   "metadata": {},
   "outputs": [
    {
     "data": {
      "text/plain": [
       "Cancer_Type\n",
       "Leukemia      1314\n",
       "Liver         1263\n",
       "Ovarian       1259\n",
       "Pancreatic    1243\n",
       "Breast        1241\n",
       "Lung          1233\n",
       "Colorectal    1226\n",
       "Prostate      1221\n",
       "Name: count, dtype: int64"
      ]
     },
     "execution_count": 23,
     "metadata": {},
     "output_type": "execute_result"
    }
   ],
   "source": [
    "df2['Cancer_Type'].value_counts()"
   ]
  },
  {
   "cell_type": "code",
   "execution_count": 24,
   "id": "9d00f1e6",
   "metadata": {},
   "outputs": [
    {
     "data": {
      "text/plain": [
       "array(['II', 'III', 'I', 'IV'], dtype=object)"
      ]
     },
     "execution_count": 24,
     "metadata": {},
     "output_type": "execute_result"
    }
   ],
   "source": [
    "df2['Cancer_Stage'].unique()"
   ]
  },
  {
   "cell_type": "code",
   "execution_count": 25,
   "id": "24987e63",
   "metadata": {},
   "outputs": [
    {
     "data": {
      "text/plain": [
       "Cancer_Stage\n",
       "III    3041\n",
       "II     3036\n",
       "I      2419\n",
       "IV     1504\n",
       "Name: count, dtype: int64"
      ]
     },
     "execution_count": 25,
     "metadata": {},
     "output_type": "execute_result"
    }
   ],
   "source": [
    "\n",
    "df2['Cancer_Stage'].value_counts()"
   ]
  },
  {
   "cell_type": "code",
   "execution_count": 26,
   "id": "ff951ae6",
   "metadata": {},
   "outputs": [
    {
     "data": {
      "text/plain": [
       "array(['Radiation', 'Surgery', 'Chemotherapy', 'Immunotherapy'],\n",
       "      dtype=object)"
      ]
     },
     "execution_count": 26,
     "metadata": {},
     "output_type": "execute_result"
    }
   ],
   "source": [
    "df2['Treatment_Type'].unique()"
   ]
  },
  {
   "cell_type": "code",
   "execution_count": 27,
   "id": "edbeefbf",
   "metadata": {},
   "outputs": [
    {
     "data": {
      "text/plain": [
       "Treatment_Type\n",
       "Radiation        2519\n",
       "Surgery          2498\n",
       "Immunotherapy    2497\n",
       "Chemotherapy     2486\n",
       "Name: count, dtype: int64"
      ]
     },
     "execution_count": 27,
     "metadata": {},
     "output_type": "execute_result"
    }
   ],
   "source": [
    "df2['Treatment_Type'].value_counts()"
   ]
  },
  {
   "cell_type": "code",
   "execution_count": 28,
   "id": "f25f3aa2",
   "metadata": {},
   "outputs": [
    {
     "data": {
      "text/plain": [
       "array(['Sheikh Khalifa Hospital', 'Dubai Hospital',\n",
       "       'Zayed Military Hospital', 'Cleveland Clinic Abu Dhabi'],\n",
       "      dtype=object)"
      ]
     },
     "execution_count": 28,
     "metadata": {},
     "output_type": "execute_result"
    }
   ],
   "source": [
    "df2['Hospital'].unique()"
   ]
  },
  {
   "cell_type": "code",
   "execution_count": 29,
   "id": "e0015f53",
   "metadata": {},
   "outputs": [
    {
     "data": {
      "text/plain": [
       "Hospital\n",
       "Sheikh Khalifa Hospital       2541\n",
       "Cleveland Clinic Abu Dhabi    2535\n",
       "Dubai Hospital                2467\n",
       "Zayed Military Hospital       2457\n",
       "Name: count, dtype: int64"
      ]
     },
     "execution_count": 29,
     "metadata": {},
     "output_type": "execute_result"
    }
   ],
   "source": [
    "\n",
    "df2['Hospital'].value_counts()"
   ]
  },
  {
   "cell_type": "code",
   "execution_count": 30,
   "id": "735696c7",
   "metadata": {},
   "outputs": [
    {
     "data": {
      "text/plain": [
       "array(['Dr. VO41', 'Dr. SM31', 'Dr. BC7', ..., 'Dr. WT6', 'Dr. JB17',\n",
       "       'Dr. SI45'], shape=(8614,), dtype=object)"
      ]
     },
     "execution_count": 30,
     "metadata": {},
     "output_type": "execute_result"
    }
   ],
   "source": [
    "\n",
    "df2['Primary_Physician'].unique()"
   ]
  },
  {
   "cell_type": "code",
   "execution_count": 33,
   "id": "6f9f4aae",
   "metadata": {},
   "outputs": [
    {
     "data": {
      "text/plain": [
       "Primary_Physician\n",
       "Dr. ZA47    5\n",
       "Dr. AJ25    5\n",
       "Dr. IV10    4\n",
       "Dr. AF32    4\n",
       "Dr. NO50    4\n",
       "           ..\n",
       "Dr. FQ6     1\n",
       "Dr. YB13    1\n",
       "Dr. BU36    1\n",
       "Dr. AP50    1\n",
       "Dr. NJ38    1\n",
       "Name: count, Length: 8614, dtype: int64"
      ]
     },
     "execution_count": 33,
     "metadata": {},
     "output_type": "execute_result"
    }
   ],
   "source": [
    "\n",
    "df2['Primary_Physician'].value_counts()"
   ]
  },
  {
   "cell_type": "code",
   "execution_count": 34,
   "id": "b7b85ecf",
   "metadata": {},
   "outputs": [
    {
     "data": {
      "text/plain": [
       "array(['Recovered', 'Under Treatment', 'Deceased'], dtype=object)"
      ]
     },
     "execution_count": 34,
     "metadata": {},
     "output_type": "execute_result"
    }
   ],
   "source": [
    "df2['Outcome'].unique()"
   ]
  },
  {
   "cell_type": "code",
   "execution_count": 35,
   "id": "86d3fb96",
   "metadata": {},
   "outputs": [
    {
     "data": {
      "text/plain": [
       "Outcome\n",
       "Recovered          4931\n",
       "Under Treatment    4077\n",
       "Deceased            992\n",
       "Name: count, dtype: int64"
      ]
     },
     "execution_count": 35,
     "metadata": {},
     "output_type": "execute_result"
    }
   ],
   "source": [
    "df2['Outcome'].value_counts()"
   ]
  },
  {
   "cell_type": "code",
   "execution_count": 36,
   "id": "fd59b826",
   "metadata": {},
   "outputs": [
    {
     "data": {
      "text/plain": [
       "array(['Non-Smoker', 'Smoker', 'Former Smoker'], dtype=object)"
      ]
     },
     "execution_count": 36,
     "metadata": {},
     "output_type": "execute_result"
    }
   ],
   "source": [
    "df2['Smoking_Status'].unique()"
   ]
  },
  {
   "cell_type": "code",
   "execution_count": 37,
   "id": "4a5bd3a9",
   "metadata": {},
   "outputs": [
    {
     "data": {
      "text/plain": [
       "Smoking_Status\n",
       "Non-Smoker       5038\n",
       "Smoker           3045\n",
       "Former Smoker    1917\n",
       "Name: count, dtype: int64"
      ]
     },
     "execution_count": 37,
     "metadata": {},
     "output_type": "execute_result"
    }
   ],
   "source": [
    "df2['Smoking_Status'].value_counts()"
   ]
  },
  {
   "cell_type": "code",
   "execution_count": 38,
   "id": "0dc399ab",
   "metadata": {},
   "outputs": [
    {
     "data": {
      "text/plain": [
       "array(['European', 'South Asian', 'African', 'East Asian', 'Arab'],\n",
       "      dtype=object)"
      ]
     },
     "execution_count": 38,
     "metadata": {},
     "output_type": "execute_result"
    }
   ],
   "source": [
    "df2['Ethnicity'].unique()"
   ]
  },
  {
   "cell_type": "code",
   "execution_count": 39,
   "id": "fb20dd43",
   "metadata": {},
   "outputs": [
    {
     "data": {
      "text/plain": [
       "Ethnicity\n",
       "South Asian    2083\n",
       "African        1988\n",
       "European       1983\n",
       "Arab           1983\n",
       "East Asian     1963\n",
       "Name: count, dtype: int64"
      ]
     },
     "execution_count": 39,
     "metadata": {},
     "output_type": "execute_result"
    }
   ],
   "source": [
    "\n",
    "df2['Ethnicity'].value_counts()"
   ]
  },
  {
   "cell_type": "code",
   "execution_count": 41,
   "id": "b4d987bb",
   "metadata": {},
   "outputs": [
    {
     "data": {
      "text/plain": [
       "array([157, 175, 155, 160, 176, 189, 162, 180, 173, 166, 168, 171, 174,\n",
       "       169, 178, 179, 156, 172, 159, 177, 161, 188, 167, 165, 170, 164,\n",
       "       191, 192, 181, 187, 144, 183, 149, 163, 182, 184, 185, 138, 152,\n",
       "       195, 158, 199, 194, 186, 198, 193, 151, 148, 150, 154, 146, 143,\n",
       "       142, 153, 147, 190, 145, 202, 196, 141, 197, 132, 139, 208, 201,\n",
       "       200, 136, 137, 204, 140, 206, 131])"
      ]
     },
     "execution_count": 41,
     "metadata": {},
     "output_type": "execute_result"
    }
   ],
   "source": [
    "df2['Height'].unique()"
   ]
  },
  {
   "cell_type": "code",
   "execution_count": 40,
   "id": "7bc6f380",
   "metadata": {},
   "outputs": [
    {
     "data": {
      "text/plain": [
       "array([ 61,  80,  50,  44, 101,  59,  66,  27,  60,  73,  48,  71,  67,\n",
       "        84,  83,  88,  82,  56,  75,  64,  85,  72,  45,  77,  55,  76,\n",
       "        89,  49,  99,  81,  78,  94,  95,  87,  53,  70,  41,  39,  57,\n",
       "        51,  97,  65,  63,  96,  74,  68,  36,  58,  38,  62,  79,  47,\n",
       "        69,  52,  92,  86,  54, 100,  42,  91, 103,  90,  43,  34,  98,\n",
       "        18,  40,  93,  37,  35, 117, 109,  46, 107, 106,  32, 102,  24,\n",
       "        31,  33, 104, 105, 112,  28, 110,  29,  23, 118, 108,  30,  26,\n",
       "       111, 114,  25, 122, 113, 116, 120,  19,  21,  22, 115])"
      ]
     },
     "execution_count": 40,
     "metadata": {},
     "output_type": "execute_result"
    }
   ],
   "source": [
    "df2['Weight'].unique()"
   ]
  },
  {
   "cell_type": "code",
   "execution_count": 42,
   "id": "ebc3f0a8",
   "metadata": {},
   "outputs": [
    {
     "data": {
      "text/plain": [
       "Age                  0\n",
       "Gender               0\n",
       "Nationality          0\n",
       "Emirate              0\n",
       "Cancer_Type          0\n",
       "Cancer_Stage         0\n",
       "Treatment_Type       0\n",
       "Hospital             0\n",
       "Primary_Physician    0\n",
       "Outcome              0\n",
       "Smoking_Status       0\n",
       "Ethnicity            0\n",
       "Weight               0\n",
       "Height               0\n",
       "dtype: int64"
      ]
     },
     "execution_count": 42,
     "metadata": {},
     "output_type": "execute_result"
    }
   ],
   "source": [
    "df2.isnull().sum()"
   ]
  },
  {
   "cell_type": "code",
   "execution_count": null,
   "id": "8cc5fa66",
   "metadata": {},
   "outputs": [],
   "source": []
  },
  {
   "cell_type": "code",
   "execution_count": null,
   "id": "2fa6feb3",
   "metadata": {},
   "outputs": [],
   "source": []
  },
  {
   "cell_type": "code",
   "execution_count": null,
   "id": "22f5e69a",
   "metadata": {},
   "outputs": [],
   "source": []
  },
  {
   "cell_type": "code",
   "execution_count": null,
   "id": "bbc0f4eb",
   "metadata": {},
   "outputs": [],
   "source": []
  }
 ],
 "metadata": {
  "kernelspec": {
   "display_name": "Python 3",
   "language": "python",
   "name": "python3"
  },
  "language_info": {
   "codemirror_mode": {
    "name": "ipython",
    "version": 3
   },
   "file_extension": ".py",
   "mimetype": "text/x-python",
   "name": "python",
   "nbconvert_exporter": "python",
   "pygments_lexer": "ipython3",
   "version": "3.10.0"
  }
 },
 "nbformat": 4,
 "nbformat_minor": 5
}
